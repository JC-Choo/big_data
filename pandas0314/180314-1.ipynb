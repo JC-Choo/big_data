{
 "cells": [
  {
   "cell_type": "code",
   "execution_count": 1,
   "metadata": {},
   "outputs": [],
   "source": [
    "import pandas as pd"
   ]
  },
  {
   "cell_type": "markdown",
   "metadata": {},
   "source": [
    "## Load Dataset"
   ]
  },
  {
   "cell_type": "code",
   "execution_count": 2,
   "metadata": {},
   "outputs": [],
   "source": [
    "# pd.read_csv(\"data/car-crash.csv\")"
   ]
  },
  {
   "cell_type": "code",
   "execution_count": 3,
   "metadata": {},
   "outputs": [],
   "source": [
    "# pd.read_csv(\"data/car-crash.csv\", engine=\"python\") # python 용 engine 은 좋은데 느림"
   ]
  },
  {
   "cell_type": "code",
   "execution_count": 4,
   "metadata": {},
   "outputs": [],
   "source": [
    "# 한국어 대부분은 utf-8 로 저장되지만 안되면 euc-kr로 저장되어 있다.\n",
    "# pd.read_csv(\"data/car-crash.csv\", encoding=\"utf-8\")\n",
    "# pd.read_csv(\"data/car-crash.csv\", encoding=\"euc-kr\")\n",
    "\n",
    "# 여기까지도 안되면 google drive 들어가서 구글씨트로 열면 utf-8로 자동으로 인코딩해줌. -> 다운로드 -> .csv 파일로 다운받고 로딩하면 됨."
   ]
  },
  {
   "cell_type": "code",
   "execution_count": 5,
   "metadata": {},
   "outputs": [
    {
     "name": "stdout",
     "output_type": "stream",
     "text": [
      "(4, 3)\n"
     ]
    },
    {
     "data": {
      "text/html": [
       "<div>\n",
       "<style scoped>\n",
       "    .dataframe tbody tr th:only-of-type {\n",
       "        vertical-align: middle;\n",
       "    }\n",
       "\n",
       "    .dataframe tbody tr th {\n",
       "        vertical-align: top;\n",
       "    }\n",
       "\n",
       "    .dataframe thead th {\n",
       "        text-align: right;\n",
       "    }\n",
       "</style>\n",
       "<table border=\"1\" class=\"dataframe\">\n",
       "  <thead>\n",
       "    <tr style=\"text-align: right;\">\n",
       "      <th></th>\n",
       "      <th>사용자</th>\n",
       "      <th>리뷰</th>\n",
       "      <th>평점</th>\n",
       "    </tr>\n",
       "  </thead>\n",
       "  <tbody>\n",
       "    <tr>\n",
       "      <th>0</th>\n",
       "      <td>김경이</td>\n",
       "      <td>위치나 시설, 직원태도등 최근 방문한 호텔중 Best였음.</td>\n",
       "      <td>8점</td>\n",
       "    </tr>\n",
       "    <tr>\n",
       "      <th>1</th>\n",
       "      <td>박진형</td>\n",
       "      <td>위치도 좋고 침대가 편안해서 숙면을 취한점이 좋았습니다. 직원들도 모두 친절해서 매...</td>\n",
       "      <td>9점</td>\n",
       "    </tr>\n",
       "    <tr>\n",
       "      <th>2</th>\n",
       "      <td>강석민</td>\n",
       "      <td>한국인 직원이 있어서 채크인/아웃 할때 많이 편했고, 음식점 추천과 예약 등 세심하...</td>\n",
       "      <td>10점</td>\n",
       "    </tr>\n",
       "    <tr>\n",
       "      <th>3</th>\n",
       "      <td>최진강</td>\n",
       "      <td>호텔이 너무 좋아서 밖으로 못나감..ㅠㅠ 정말 최고입니다.</td>\n",
       "      <td>8점</td>\n",
       "    </tr>\n",
       "  </tbody>\n",
       "</table>\n",
       "</div>"
      ],
      "text/plain": [
       "   사용자                                                 리뷰   평점\n",
       "0  김경이                   위치나 시설, 직원태도등 최근 방문한 호텔중 Best였음.   8점\n",
       "1  박진형  위치도 좋고 침대가 편안해서 숙면을 취한점이 좋았습니다. 직원들도 모두 친절해서 매...   9점\n",
       "2  강석민  한국인 직원이 있어서 채크인/아웃 할때 많이 편했고, 음식점 추천과 예약 등 세심하...  10점\n",
       "3  최진강                   호텔이 너무 좋아서 밖으로 못나감..ㅠㅠ 정말 최고입니다.   8점"
      ]
     },
     "execution_count": 5,
     "metadata": {},
     "output_type": "execute_result"
    }
   ],
   "source": [
    "review = pd.read_csv(\"data/review.csv\")\n",
    "\n",
    "print(review.shape)\n",
    "review.head()"
   ]
  },
  {
   "cell_type": "code",
   "execution_count": 6,
   "metadata": {},
   "outputs": [
    {
     "data": {
      "text/plain": [
       "0     32\n",
       "1     60\n",
       "2    134\n",
       "3     32\n",
       "Name: 리뷰, dtype: int64"
      ]
     },
     "execution_count": 6,
     "metadata": {},
     "output_type": "execute_result"
    }
   ],
   "source": [
    "# str == 문자열 == object\n",
    "review[\"리뷰\"].str.len() # 문장 길이"
   ]
  },
  {
   "cell_type": "code",
   "execution_count": 7,
   "metadata": {},
   "outputs": [
    {
     "data": {
      "text/plain": [
       "0                     위치나 시설, 직원태도등 최근 방문한 호텔중 BEST였음.\n",
       "1    위치도 좋고 침대가 편안해서 숙면을 취한점이 좋았습니다. 직원들도 모두 친절해서 매...\n",
       "2    한국인 직원이 있어서 채크인/아웃 할때 많이 편했고, 음식점 추천과 예약 등 세심하...\n",
       "3                     호텔이 너무 좋아서 밖으로 못나감..ㅠㅠ 정말 최고입니다.\n",
       "Name: 리뷰, dtype: object"
      ]
     },
     "execution_count": 7,
     "metadata": {},
     "output_type": "execute_result"
    }
   ],
   "source": [
    "# review[\"리뷰\"].str.lower() # 소문자\n",
    "review[\"리뷰\"].str.upper() # 대문자"
   ]
  },
  {
   "cell_type": "code",
   "execution_count": 8,
   "metadata": {},
   "outputs": [
    {
     "data": {
      "text/html": [
       "<div>\n",
       "<style scoped>\n",
       "    .dataframe tbody tr th:only-of-type {\n",
       "        vertical-align: middle;\n",
       "    }\n",
       "\n",
       "    .dataframe tbody tr th {\n",
       "        vertical-align: top;\n",
       "    }\n",
       "\n",
       "    .dataframe thead th {\n",
       "        text-align: right;\n",
       "    }\n",
       "</style>\n",
       "<table border=\"1\" class=\"dataframe\">\n",
       "  <thead>\n",
       "    <tr style=\"text-align: right;\">\n",
       "      <th></th>\n",
       "      <th>사용자</th>\n",
       "      <th>리뷰</th>\n",
       "      <th>평점</th>\n",
       "    </tr>\n",
       "  </thead>\n",
       "  <tbody>\n",
       "    <tr>\n",
       "      <th>0</th>\n",
       "      <td>김경이</td>\n",
       "      <td>위치나 시설, 직원태도등 최근 방문한 호텔중 Best였음.</td>\n",
       "      <td>8점</td>\n",
       "    </tr>\n",
       "  </tbody>\n",
       "</table>\n",
       "</div>"
      ],
      "text/plain": [
       "   사용자                                리뷰  평점\n",
       "0  김경이  위치나 시설, 직원태도등 최근 방문한 호텔중 Best였음.  8점"
      ]
     },
     "execution_count": 8,
     "metadata": {},
     "output_type": "execute_result"
    }
   ],
   "source": [
    "review[review[\"사용자\"] == \"김경이\"]"
   ]
  },
  {
   "cell_type": "code",
   "execution_count": 9,
   "metadata": {},
   "outputs": [
    {
     "data": {
      "text/html": [
       "<div>\n",
       "<style scoped>\n",
       "    .dataframe tbody tr th:only-of-type {\n",
       "        vertical-align: middle;\n",
       "    }\n",
       "\n",
       "    .dataframe tbody tr th {\n",
       "        vertical-align: top;\n",
       "    }\n",
       "\n",
       "    .dataframe thead th {\n",
       "        text-align: right;\n",
       "    }\n",
       "</style>\n",
       "<table border=\"1\" class=\"dataframe\">\n",
       "  <thead>\n",
       "    <tr style=\"text-align: right;\">\n",
       "      <th></th>\n",
       "      <th>사용자</th>\n",
       "      <th>리뷰</th>\n",
       "      <th>평점</th>\n",
       "    </tr>\n",
       "  </thead>\n",
       "  <tbody>\n",
       "    <tr>\n",
       "      <th>0</th>\n",
       "      <td>김경이</td>\n",
       "      <td>위치나 시설, 직원태도등 최근 방문한 호텔중 Best였음.</td>\n",
       "      <td>8점</td>\n",
       "    </tr>\n",
       "    <tr>\n",
       "      <th>1</th>\n",
       "      <td>박진형</td>\n",
       "      <td>위치도 좋고 침대가 편안해서 숙면을 취한점이 좋았습니다. 직원들도 모두 친절해서 매...</td>\n",
       "      <td>9점</td>\n",
       "    </tr>\n",
       "  </tbody>\n",
       "</table>\n",
       "</div>"
      ],
      "text/plain": [
       "   사용자                                                 리뷰  평점\n",
       "0  김경이                   위치나 시설, 직원태도등 최근 방문한 호텔중 Best였음.  8점\n",
       "1  박진형  위치도 좋고 침대가 편안해서 숙면을 취한점이 좋았습니다. 직원들도 모두 친절해서 매...  9점"
      ]
     },
     "execution_count": 9,
     "metadata": {},
     "output_type": "execute_result"
    }
   ],
   "source": [
    "review[review[\"사용자\"].isin([\"김경이\", \"박진형\"])]"
   ]
  },
  {
   "cell_type": "code",
   "execution_count": 10,
   "metadata": {},
   "outputs": [
    {
     "data": {
      "text/html": [
       "<div>\n",
       "<style scoped>\n",
       "    .dataframe tbody tr th:only-of-type {\n",
       "        vertical-align: middle;\n",
       "    }\n",
       "\n",
       "    .dataframe tbody tr th {\n",
       "        vertical-align: top;\n",
       "    }\n",
       "\n",
       "    .dataframe thead th {\n",
       "        text-align: right;\n",
       "    }\n",
       "</style>\n",
       "<table border=\"1\" class=\"dataframe\">\n",
       "  <thead>\n",
       "    <tr style=\"text-align: right;\">\n",
       "      <th></th>\n",
       "      <th>사용자</th>\n",
       "      <th>리뷰</th>\n",
       "      <th>평점</th>\n",
       "    </tr>\n",
       "  </thead>\n",
       "  <tbody>\n",
       "    <tr>\n",
       "      <th>0</th>\n",
       "      <td>김경이</td>\n",
       "      <td>위치나 시설, 직원태도등 최근 방문한 호텔중 Best였음.</td>\n",
       "      <td>8점</td>\n",
       "    </tr>\n",
       "    <tr>\n",
       "      <th>1</th>\n",
       "      <td>박진형</td>\n",
       "      <td>위치도 좋고 침대가 편안해서 숙면을 취한점이 좋았습니다. 직원들도 모두 친절해서 매...</td>\n",
       "      <td>9점</td>\n",
       "    </tr>\n",
       "  </tbody>\n",
       "</table>\n",
       "</div>"
      ],
      "text/plain": [
       "   사용자                                                 리뷰  평점\n",
       "0  김경이                   위치나 시설, 직원태도등 최근 방문한 호텔중 Best였음.  8점\n",
       "1  박진형  위치도 좋고 침대가 편안해서 숙면을 취한점이 좋았습니다. 직원들도 모두 친절해서 매...  9점"
      ]
     },
     "execution_count": 10,
     "metadata": {},
     "output_type": "execute_result"
    }
   ],
   "source": [
    "user_list = [\"김경이\", \"박진형\"]\n",
    "review[review[\"사용자\"].isin(user_list)] # 위랑 같은 코든데 깔끔하게 구현"
   ]
  },
  {
   "cell_type": "code",
   "execution_count": 11,
   "metadata": {},
   "outputs": [
    {
     "data": {
      "text/html": [
       "<div>\n",
       "<style scoped>\n",
       "    .dataframe tbody tr th:only-of-type {\n",
       "        vertical-align: middle;\n",
       "    }\n",
       "\n",
       "    .dataframe tbody tr th {\n",
       "        vertical-align: top;\n",
       "    }\n",
       "\n",
       "    .dataframe thead th {\n",
       "        text-align: right;\n",
       "    }\n",
       "</style>\n",
       "<table border=\"1\" class=\"dataframe\">\n",
       "  <thead>\n",
       "    <tr style=\"text-align: right;\">\n",
       "      <th></th>\n",
       "      <th>사용자</th>\n",
       "      <th>리뷰</th>\n",
       "      <th>평점</th>\n",
       "    </tr>\n",
       "  </thead>\n",
       "  <tbody>\n",
       "    <tr>\n",
       "      <th>1</th>\n",
       "      <td>박진형</td>\n",
       "      <td>위치도 좋고 침대가 편안해서 숙면을 취한점이 좋았습니다. 직원들도 모두 친절해서 매...</td>\n",
       "      <td>9점</td>\n",
       "    </tr>\n",
       "    <tr>\n",
       "      <th>2</th>\n",
       "      <td>강석민</td>\n",
       "      <td>한국인 직원이 있어서 채크인/아웃 할때 많이 편했고, 음식점 추천과 예약 등 세심하...</td>\n",
       "      <td>10점</td>\n",
       "    </tr>\n",
       "  </tbody>\n",
       "</table>\n",
       "</div>"
      ],
      "text/plain": [
       "   사용자                                                 리뷰   평점\n",
       "1  박진형  위치도 좋고 침대가 편안해서 숙면을 취한점이 좋았습니다. 직원들도 모두 친절해서 매...   9점\n",
       "2  강석민  한국인 직원이 있어서 채크인/아웃 할때 많이 편했고, 음식점 추천과 예약 등 세심하...  10점"
      ]
     },
     "execution_count": 11,
     "metadata": {},
     "output_type": "execute_result"
    }
   ],
   "source": [
    "user_list = [\"10점\", \"9점\"]\n",
    "review[review[\"평점\"].isin(user_list)]"
   ]
  },
  {
   "cell_type": "code",
   "execution_count": 12,
   "metadata": {},
   "outputs": [
    {
     "data": {
      "text/plain": [
       "0                     위치나 시설, 직원태도등 최근 방문한 호텔중 Best였음.\n",
       "1    위치도 좋고 침대가 편안해서 숙면을 취한점이 좋았습니다. 직원들도 모두 친절해서 매...\n",
       "2    한국인 직원이 있어서 체크인/아웃 할때 많이 편했고, 음식점 추천과 예약 등 세심하...\n",
       "3                     호텔이 너무 좋아서 밖으로 못나감..ㅠㅠ 정말 최고입니다.\n",
       "Name: 리뷰, dtype: object"
      ]
     },
     "execution_count": 12,
     "metadata": {},
     "output_type": "execute_result"
    }
   ],
   "source": [
    "review[\"리뷰\"].str.replace(\"채크인\", \"체크인\")"
   ]
  },
  {
   "cell_type": "code",
   "execution_count": 13,
   "metadata": {},
   "outputs": [
    {
     "data": {
      "text/html": [
       "<div>\n",
       "<style scoped>\n",
       "    .dataframe tbody tr th:only-of-type {\n",
       "        vertical-align: middle;\n",
       "    }\n",
       "\n",
       "    .dataframe tbody tr th {\n",
       "        vertical-align: top;\n",
       "    }\n",
       "\n",
       "    .dataframe thead th {\n",
       "        text-align: right;\n",
       "    }\n",
       "</style>\n",
       "<table border=\"1\" class=\"dataframe\">\n",
       "  <thead>\n",
       "    <tr style=\"text-align: right;\">\n",
       "      <th></th>\n",
       "      <th>사용자</th>\n",
       "      <th>리뷰</th>\n",
       "      <th>평점</th>\n",
       "    </tr>\n",
       "  </thead>\n",
       "  <tbody>\n",
       "    <tr>\n",
       "      <th>0</th>\n",
       "      <td>김경이</td>\n",
       "      <td>위치나 시설, 직원태도등 최근 방문한 호텔중 Best였음.</td>\n",
       "      <td>8점</td>\n",
       "    </tr>\n",
       "    <tr>\n",
       "      <th>1</th>\n",
       "      <td>박진형</td>\n",
       "      <td>위치도 좋고 침대가 편안해서 숙면을 취한점이 좋았습니다. 직원들도 모두 친절해서 매...</td>\n",
       "      <td>9점</td>\n",
       "    </tr>\n",
       "  </tbody>\n",
       "</table>\n",
       "</div>"
      ],
      "text/plain": [
       "   사용자                                                 리뷰  평점\n",
       "0  김경이                   위치나 시설, 직원태도등 최근 방문한 호텔중 Best였음.  8점\n",
       "1  박진형  위치도 좋고 침대가 편안해서 숙면을 취한점이 좋았습니다. 직원들도 모두 친절해서 매...  9점"
      ]
     },
     "execution_count": 13,
     "metadata": {},
     "output_type": "execute_result"
    }
   ],
   "source": [
    "review[review[\"리뷰\"].str.contains(\"위치\")]"
   ]
  },
  {
   "cell_type": "code",
   "execution_count": 14,
   "metadata": {},
   "outputs": [
    {
     "data": {
      "text/html": [
       "<div>\n",
       "<style scoped>\n",
       "    .dataframe tbody tr th:only-of-type {\n",
       "        vertical-align: middle;\n",
       "    }\n",
       "\n",
       "    .dataframe tbody tr th {\n",
       "        vertical-align: top;\n",
       "    }\n",
       "\n",
       "    .dataframe thead th {\n",
       "        text-align: right;\n",
       "    }\n",
       "</style>\n",
       "<table border=\"1\" class=\"dataframe\">\n",
       "  <thead>\n",
       "    <tr style=\"text-align: right;\">\n",
       "      <th></th>\n",
       "      <th>사용자</th>\n",
       "      <th>리뷰</th>\n",
       "      <th>평점</th>\n",
       "    </tr>\n",
       "  </thead>\n",
       "  <tbody>\n",
       "    <tr>\n",
       "      <th>0</th>\n",
       "      <td>김경이</td>\n",
       "      <td>위치나 시설, 직원태도등 최근 방문한 호텔중 Best였음.</td>\n",
       "      <td>8점</td>\n",
       "    </tr>\n",
       "    <tr>\n",
       "      <th>1</th>\n",
       "      <td>박진형</td>\n",
       "      <td>위치도 좋고 침대가 편안해서 숙면을 취한점이 좋았습니다. 직원들도 모두 친절해서 매...</td>\n",
       "      <td>9점</td>\n",
       "    </tr>\n",
       "    <tr>\n",
       "      <th>2</th>\n",
       "      <td>강석민</td>\n",
       "      <td>한국인 직원이 있어서 채크인/아웃 할때 많이 편했고, 음식점 추천과 예약 등 세심하...</td>\n",
       "      <td>10점</td>\n",
       "    </tr>\n",
       "  </tbody>\n",
       "</table>\n",
       "</div>"
      ],
      "text/plain": [
       "   사용자                                                 리뷰   평점\n",
       "0  김경이                   위치나 시설, 직원태도등 최근 방문한 호텔중 Best였음.   8점\n",
       "1  박진형  위치도 좋고 침대가 편안해서 숙면을 취한점이 좋았습니다. 직원들도 모두 친절해서 매...   9점\n",
       "2  강석민  한국인 직원이 있어서 채크인/아웃 할때 많이 편했고, 음식점 추천과 예약 등 세심하...  10점"
      ]
     },
     "execution_count": 14,
     "metadata": {},
     "output_type": "execute_result"
    }
   ],
   "source": [
    "review[review[\"리뷰\"].str.contains(\"위치|시설\")]"
   ]
  },
  {
   "cell_type": "code",
   "execution_count": 15,
   "metadata": {},
   "outputs": [
    {
     "data": {
      "text/html": [
       "<div>\n",
       "<style scoped>\n",
       "    .dataframe tbody tr th:only-of-type {\n",
       "        vertical-align: middle;\n",
       "    }\n",
       "\n",
       "    .dataframe tbody tr th {\n",
       "        vertical-align: top;\n",
       "    }\n",
       "\n",
       "    .dataframe thead th {\n",
       "        text-align: right;\n",
       "    }\n",
       "</style>\n",
       "<table border=\"1\" class=\"dataframe\">\n",
       "  <thead>\n",
       "    <tr style=\"text-align: right;\">\n",
       "      <th></th>\n",
       "      <th>사용자</th>\n",
       "      <th>리뷰</th>\n",
       "      <th>평점</th>\n",
       "    </tr>\n",
       "  </thead>\n",
       "  <tbody>\n",
       "    <tr>\n",
       "      <th>0</th>\n",
       "      <td>김경이</td>\n",
       "      <td>위치나 시설, 직원태도등 최근 방문한 호텔중 Best였음.</td>\n",
       "      <td>8점</td>\n",
       "    </tr>\n",
       "  </tbody>\n",
       "</table>\n",
       "</div>"
      ],
      "text/plain": [
       "   사용자                                리뷰  평점\n",
       "0  김경이  위치나 시설, 직원태도등 최근 방문한 호텔중 Best였음.  8점"
      ]
     },
     "execution_count": 15,
     "metadata": {},
     "output_type": "execute_result"
    }
   ],
   "source": [
    "review[review[\"리뷰\"].str.contains(\"(?=.*위치)(?=.*시설)\")] # 정규표현식으로 사용한것, 위치와 시설 둘다 들어간 것을 고를 때"
   ]
  },
  {
   "cell_type": "code",
   "execution_count": 16,
   "metadata": {},
   "outputs": [
    {
     "data": {
      "text/plain": [
       "0    1\n",
       "1    0\n",
       "2    0\n",
       "3    0\n",
       "Name: 리뷰, dtype: int64"
      ]
     },
     "execution_count": 16,
     "metadata": {},
     "output_type": "execute_result"
    }
   ],
   "source": [
    "review[\"리뷰\"].str.count(\"(?=.*위치)(?=.*시설)\")"
   ]
  },
  {
   "cell_type": "code",
   "execution_count": 17,
   "metadata": {},
   "outputs": [
    {
     "data": {
      "text/plain": [
       "0             [위치나, 시설,, 직원태도등, 최근, 방문한, 호텔중, Best였음.]\n",
       "1    [위치도, 좋고, 침대가, 편안해서, 숙면을, 취한점이, 좋았습니다., 직원들도, ...\n",
       "2    [한국인, 직원이, 있어서, 채크인/아웃, 할때, 많이, 편했고,, 음식점, 추천과...\n",
       "3             [호텔이, 너무, 좋아서, 밖으로, 못나감..ㅠㅠ, 정말, 최고입니다.]\n",
       "Name: 리뷰, dtype: object"
      ]
     },
     "execution_count": 17,
     "metadata": {},
     "output_type": "execute_result"
    }
   ],
   "source": [
    "review[\"리뷰\"].str.split() # 공백을 기준으로 쪼개는 것."
   ]
  },
  {
   "cell_type": "code",
   "execution_count": 18,
   "metadata": {},
   "outputs": [
    {
     "data": {
      "text/plain": [
       "0                  [위치나 시설,  직원태도등 최근 방문한 호텔중 Best였음.]\n",
       "1    [위치도 좋고 침대가 편안해서 숙면을 취한점이 좋았습니다. 직원들도 모두 친절해서 ...\n",
       "2    [한국인 직원이 있어서 채크인/아웃 할때 많이 편했고,  음식점 추천과 예약 등 세...\n",
       "3                   [호텔이 너무 좋아서 밖으로 못나감..ㅠㅠ 정말 최고입니다.]\n",
       "Name: 리뷰, dtype: object"
      ]
     },
     "execution_count": 18,
     "metadata": {},
     "output_type": "execute_result"
    }
   ],
   "source": [
    "review[\"리뷰\"].str.split(\",\")"
   ]
  },
  {
   "cell_type": "code",
   "execution_count": 19,
   "metadata": {},
   "outputs": [],
   "source": [
    "review[\"리뷰\"] = review[\"리뷰\"].str.replace(\"채크인\", \"체크인\")"
   ]
  },
  {
   "cell_type": "code",
   "execution_count": 20,
   "metadata": {},
   "outputs": [
    {
     "data": {
      "text/html": [
       "<div>\n",
       "<style scoped>\n",
       "    .dataframe tbody tr th:only-of-type {\n",
       "        vertical-align: middle;\n",
       "    }\n",
       "\n",
       "    .dataframe tbody tr th {\n",
       "        vertical-align: top;\n",
       "    }\n",
       "\n",
       "    .dataframe thead th {\n",
       "        text-align: right;\n",
       "    }\n",
       "</style>\n",
       "<table border=\"1\" class=\"dataframe\">\n",
       "  <thead>\n",
       "    <tr style=\"text-align: right;\">\n",
       "      <th></th>\n",
       "      <th>사용자</th>\n",
       "      <th>리뷰</th>\n",
       "      <th>평점</th>\n",
       "    </tr>\n",
       "  </thead>\n",
       "  <tbody>\n",
       "    <tr>\n",
       "      <th>0</th>\n",
       "      <td>김경이</td>\n",
       "      <td>위치나 시설, 직원태도등 최근 방문한 호텔중 Best였음.</td>\n",
       "      <td>8점</td>\n",
       "    </tr>\n",
       "    <tr>\n",
       "      <th>1</th>\n",
       "      <td>박진형</td>\n",
       "      <td>위치도 좋고 침대가 편안해서 숙면을 취한점이 좋았습니다. 직원들도 모두 친절해서 매...</td>\n",
       "      <td>9점</td>\n",
       "    </tr>\n",
       "    <tr>\n",
       "      <th>2</th>\n",
       "      <td>강석민</td>\n",
       "      <td>한국인 직원이 있어서 체크인/아웃 할때 많이 편했고, 음식점 추천과 예약 등 세심하...</td>\n",
       "      <td>10점</td>\n",
       "    </tr>\n",
       "    <tr>\n",
       "      <th>3</th>\n",
       "      <td>최진강</td>\n",
       "      <td>호텔이 너무 좋아서 밖으로 못나감..ㅠㅠ 정말 최고입니다.</td>\n",
       "      <td>8점</td>\n",
       "    </tr>\n",
       "  </tbody>\n",
       "</table>\n",
       "</div>"
      ],
      "text/plain": [
       "   사용자                                                 리뷰   평점\n",
       "0  김경이                   위치나 시설, 직원태도등 최근 방문한 호텔중 Best였음.   8점\n",
       "1  박진형  위치도 좋고 침대가 편안해서 숙면을 취한점이 좋았습니다. 직원들도 모두 친절해서 매...   9점\n",
       "2  강석민  한국인 직원이 있어서 체크인/아웃 할때 많이 편했고, 음식점 추천과 예약 등 세심하...  10점\n",
       "3  최진강                   호텔이 너무 좋아서 밖으로 못나감..ㅠㅠ 정말 최고입니다.   8점"
      ]
     },
     "execution_count": 20,
     "metadata": {},
     "output_type": "execute_result"
    }
   ],
   "source": [
    "review"
   ]
  },
  {
   "cell_type": "code",
   "execution_count": 21,
   "metadata": {},
   "outputs": [
    {
     "data": {
      "text/html": [
       "<div>\n",
       "<style scoped>\n",
       "    .dataframe tbody tr th:only-of-type {\n",
       "        vertical-align: middle;\n",
       "    }\n",
       "\n",
       "    .dataframe tbody tr th {\n",
       "        vertical-align: top;\n",
       "    }\n",
       "\n",
       "    .dataframe thead th {\n",
       "        text-align: right;\n",
       "    }\n",
       "</style>\n",
       "<table border=\"1\" class=\"dataframe\">\n",
       "  <thead>\n",
       "    <tr style=\"text-align: right;\">\n",
       "      <th></th>\n",
       "      <th>사용자</th>\n",
       "      <th>리뷰</th>\n",
       "      <th>평점</th>\n",
       "    </tr>\n",
       "  </thead>\n",
       "  <tbody>\n",
       "    <tr>\n",
       "      <th>0</th>\n",
       "      <td>김경이</td>\n",
       "      <td>위치나 시설, 직원태도등 최근 방문한 호텔중 Best였음.</td>\n",
       "      <td>8점</td>\n",
       "    </tr>\n",
       "    <tr>\n",
       "      <th>1</th>\n",
       "      <td>박진형</td>\n",
       "      <td>위치도 좋고 침대가 편안해서 숙면을 취한점이 좋았습니다. 직원들도 모두 친절해서 매...</td>\n",
       "      <td>9점</td>\n",
       "    </tr>\n",
       "    <tr>\n",
       "      <th>2</th>\n",
       "      <td>강석민</td>\n",
       "      <td>한국인 직원이 있어서 체크인/아웃 할때 많이 편했고, 음식점 추천과 예약 등 세심하...</td>\n",
       "      <td>10점</td>\n",
       "    </tr>\n",
       "    <tr>\n",
       "      <th>3</th>\n",
       "      <td>최진강</td>\n",
       "      <td>호텔이 너무 좋아서 밖으로 못나감..ㅠㅠ 정말 최고입니다.</td>\n",
       "      <td>8점</td>\n",
       "    </tr>\n",
       "  </tbody>\n",
       "</table>\n",
       "</div>"
      ],
      "text/plain": [
       "  사용자                                                 리뷰    평점\n",
       "0  김경이                   위치나 시설, 직원태도등 최근 방문한 호텔중 Best였음.   8점\n",
       "1  박진형  위치도 좋고 침대가 편안해서 숙면을 취한점이 좋았습니다. 직원들도 모두 친절해서 매...   9점\n",
       "2  강석민  한국인 직원이 있어서 체크인/아웃 할때 많이 편했고, 음식점 추천과 예약 등 세심하...  10점\n",
       "3  최진강                   호텔이 너무 좋아서 밖으로 못나감..ㅠㅠ 정말 최고입니다.   8점"
      ]
     },
     "execution_count": 21,
     "metadata": {},
     "output_type": "execute_result"
    }
   ],
   "source": [
    "raw_review = review.copy()\n",
    "raw_review.columns = [\"사용자 \", \" 리뷰 \", \" 평점\"]\n",
    "raw_review"
   ]
  },
  {
   "cell_type": "code",
   "execution_count": 22,
   "metadata": {},
   "outputs": [],
   "source": [
    "# raw_review[\"사용자\"] # << 띄어쓰기 문제 때문에 가져오지 못함"
   ]
  },
  {
   "cell_type": "code",
   "execution_count": 23,
   "metadata": {},
   "outputs": [
    {
     "data": {
      "text/plain": [
       "Index(['사용자 ', ' 리뷰 ', ' 평점'], dtype='object')"
      ]
     },
     "execution_count": 23,
     "metadata": {},
     "output_type": "execute_result"
    }
   ],
   "source": [
    "raw_review.columns # 컬럼의 인덱스가 어떻게 구성되어있는지 확인할 수 있음"
   ]
  },
  {
   "cell_type": "code",
   "execution_count": 24,
   "metadata": {},
   "outputs": [
    {
     "data": {
      "text/plain": [
       "Index(['사용자', '리뷰', '평점'], dtype='object')"
      ]
     },
     "execution_count": 24,
     "metadata": {},
     "output_type": "execute_result"
    }
   ],
   "source": [
    "raw_review.columns.str.strip() # 외각쪽에 있는 띄어쓰기를 없애줌"
   ]
  },
  {
   "cell_type": "code",
   "execution_count": 25,
   "metadata": {},
   "outputs": [
    {
     "data": {
      "text/plain": [
       "0    김경이\n",
       "1    박진형\n",
       "2    강석민\n",
       "3    최진강\n",
       "Name: 사용자, dtype: object"
      ]
     },
     "execution_count": 25,
     "metadata": {},
     "output_type": "execute_result"
    }
   ],
   "source": [
    "raw_review.columns = raw_review.columns.str.strip()\n",
    "raw_review[\"사용자\"]"
   ]
  },
  {
   "cell_type": "code",
   "execution_count": 26,
   "metadata": {},
   "outputs": [
    {
     "data": {
      "text/html": [
       "<div>\n",
       "<style scoped>\n",
       "    .dataframe tbody tr th:only-of-type {\n",
       "        vertical-align: middle;\n",
       "    }\n",
       "\n",
       "    .dataframe tbody tr th {\n",
       "        vertical-align: top;\n",
       "    }\n",
       "\n",
       "    .dataframe thead th {\n",
       "        text-align: right;\n",
       "    }\n",
       "</style>\n",
       "<table border=\"1\" class=\"dataframe\">\n",
       "  <thead>\n",
       "    <tr style=\"text-align: right;\">\n",
       "      <th></th>\n",
       "      <th>Best였음.</th>\n",
       "      <th>깨끗하고</th>\n",
       "      <th>너무</th>\n",
       "      <th>등</th>\n",
       "      <th>따로</th>\n",
       "      <th>룸서비스,조식</th>\n",
       "      <th>만족한</th>\n",
       "      <th>많이</th>\n",
       "      <th>매우</th>\n",
       "      <th>모두</th>\n",
       "      <th>...</th>\n",
       "      <th>친절해서</th>\n",
       "      <th>침대가</th>\n",
       "      <th>편안해서</th>\n",
       "      <th>편했고,</th>\n",
       "      <th>포함되어있지</th>\n",
       "      <th>한국인</th>\n",
       "      <th>할때</th>\n",
       "      <th>현대적입니다.</th>\n",
       "      <th>호텔이</th>\n",
       "      <th>호텔중</th>\n",
       "    </tr>\n",
       "  </thead>\n",
       "  <tbody>\n",
       "    <tr>\n",
       "      <th>0</th>\n",
       "      <td>1</td>\n",
       "      <td>0</td>\n",
       "      <td>0</td>\n",
       "      <td>0</td>\n",
       "      <td>0</td>\n",
       "      <td>0</td>\n",
       "      <td>0</td>\n",
       "      <td>0</td>\n",
       "      <td>0</td>\n",
       "      <td>0</td>\n",
       "      <td>...</td>\n",
       "      <td>0</td>\n",
       "      <td>0</td>\n",
       "      <td>0</td>\n",
       "      <td>0</td>\n",
       "      <td>0</td>\n",
       "      <td>0</td>\n",
       "      <td>0</td>\n",
       "      <td>0</td>\n",
       "      <td>0</td>\n",
       "      <td>1</td>\n",
       "    </tr>\n",
       "    <tr>\n",
       "      <th>1</th>\n",
       "      <td>0</td>\n",
       "      <td>0</td>\n",
       "      <td>0</td>\n",
       "      <td>0</td>\n",
       "      <td>0</td>\n",
       "      <td>0</td>\n",
       "      <td>1</td>\n",
       "      <td>0</td>\n",
       "      <td>1</td>\n",
       "      <td>1</td>\n",
       "      <td>...</td>\n",
       "      <td>1</td>\n",
       "      <td>1</td>\n",
       "      <td>1</td>\n",
       "      <td>0</td>\n",
       "      <td>0</td>\n",
       "      <td>0</td>\n",
       "      <td>0</td>\n",
       "      <td>0</td>\n",
       "      <td>0</td>\n",
       "      <td>0</td>\n",
       "    </tr>\n",
       "    <tr>\n",
       "      <th>2</th>\n",
       "      <td>0</td>\n",
       "      <td>1</td>\n",
       "      <td>0</td>\n",
       "      <td>1</td>\n",
       "      <td>1</td>\n",
       "      <td>1</td>\n",
       "      <td>0</td>\n",
       "      <td>1</td>\n",
       "      <td>0</td>\n",
       "      <td>0</td>\n",
       "      <td>...</td>\n",
       "      <td>0</td>\n",
       "      <td>0</td>\n",
       "      <td>0</td>\n",
       "      <td>1</td>\n",
       "      <td>1</td>\n",
       "      <td>1</td>\n",
       "      <td>1</td>\n",
       "      <td>1</td>\n",
       "      <td>0</td>\n",
       "      <td>0</td>\n",
       "    </tr>\n",
       "    <tr>\n",
       "      <th>3</th>\n",
       "      <td>0</td>\n",
       "      <td>0</td>\n",
       "      <td>1</td>\n",
       "      <td>0</td>\n",
       "      <td>0</td>\n",
       "      <td>0</td>\n",
       "      <td>0</td>\n",
       "      <td>0</td>\n",
       "      <td>0</td>\n",
       "      <td>0</td>\n",
       "      <td>...</td>\n",
       "      <td>0</td>\n",
       "      <td>0</td>\n",
       "      <td>0</td>\n",
       "      <td>0</td>\n",
       "      <td>0</td>\n",
       "      <td>0</td>\n",
       "      <td>0</td>\n",
       "      <td>0</td>\n",
       "      <td>1</td>\n",
       "      <td>0</td>\n",
       "    </tr>\n",
       "  </tbody>\n",
       "</table>\n",
       "<p>4 rows × 54 columns</p>\n",
       "</div>"
      ],
      "text/plain": [
       "   Best였음.  깨끗하고  너무  등  따로  룸서비스,조식  만족한  많이  매우  모두 ...   친절해서  침대가  편안해서  \\\n",
       "0        1     0   0  0   0        0    0   0   0   0 ...      0    0     0   \n",
       "1        0     0   0  0   0        0    1   0   1   1 ...      1    1     1   \n",
       "2        0     1   0  1   1        1    0   1   0   0 ...      0    0     0   \n",
       "3        0     0   1  0   0        0    0   0   0   0 ...      0    0     0   \n",
       "\n",
       "   편했고,  포함되어있지  한국인  할때  현대적입니다.  호텔이  호텔중  \n",
       "0     0       0    0   0        0    0    1  \n",
       "1     0       0    0   0        0    0    0  \n",
       "2     1       1    1   1        1    0    0  \n",
       "3     0       0    0   0        0    1    0  \n",
       "\n",
       "[4 rows x 54 columns]"
      ]
     },
     "execution_count": 26,
     "metadata": {},
     "output_type": "execute_result"
    }
   ],
   "source": [
    "review_tokens = review[\"리뷰\"].str.get_dummies(sep=\" \") #어떤 단어가 많이 들어가있는지 확인할 때 많이 사용\n",
    "review_tokens\n",
    "# 형태소 분석기를 쓰면 깨끗한, 깨끗하다, 깨끗하게 등과 같이 공통 단어인 깨끗을 뽑아낼 수 있다."
   ]
  },
  {
   "cell_type": "code",
   "execution_count": 27,
   "metadata": {},
   "outputs": [
    {
     "data": {
      "text/plain": [
       "1"
      ]
     },
     "execution_count": 27,
     "metadata": {},
     "output_type": "execute_result"
    }
   ],
   "source": [
    "review_tokens[\"깨끗하고\"].sum() # 전체 몇번 사용되었는지 합치는거"
   ]
  },
  {
   "cell_type": "code",
   "execution_count": 28,
   "metadata": {},
   "outputs": [
    {
     "data": {
      "text/plain": [
       "0.25"
      ]
     },
     "execution_count": 28,
     "metadata": {},
     "output_type": "execute_result"
    }
   ],
   "source": [
    "review_tokens[\"깨끗하고\"].mean() # 전체 평균"
   ]
  },
  {
   "cell_type": "markdown",
   "metadata": {},
   "source": [
    "## 파일 저장하기"
   ]
  },
  {
   "cell_type": "code",
   "execution_count": 29,
   "metadata": {},
   "outputs": [
    {
     "name": "stdout",
     "output_type": "stream",
     "text": [
      "(40000, 3)\n"
     ]
    },
    {
     "data": {
      "text/html": [
       "<div>\n",
       "<style scoped>\n",
       "    .dataframe tbody tr th:only-of-type {\n",
       "        vertical-align: middle;\n",
       "    }\n",
       "\n",
       "    .dataframe tbody tr th {\n",
       "        vertical-align: top;\n",
       "    }\n",
       "\n",
       "    .dataframe thead th {\n",
       "        text-align: right;\n",
       "    }\n",
       "</style>\n",
       "<table border=\"1\" class=\"dataframe\">\n",
       "  <thead>\n",
       "    <tr style=\"text-align: right;\">\n",
       "      <th></th>\n",
       "      <th>사용자</th>\n",
       "      <th>리뷰</th>\n",
       "      <th>평점</th>\n",
       "    </tr>\n",
       "  </thead>\n",
       "  <tbody>\n",
       "    <tr>\n",
       "      <th>0</th>\n",
       "      <td>김경이</td>\n",
       "      <td>위치나 시설, 직원태도등 최근 방문한 호텔중 Best였음.</td>\n",
       "      <td>8점</td>\n",
       "    </tr>\n",
       "    <tr>\n",
       "      <th>1</th>\n",
       "      <td>박진형</td>\n",
       "      <td>위치도 좋고 침대가 편안해서 숙면을 취한점이 좋았습니다. 직원들도 모두 친절해서 매...</td>\n",
       "      <td>9점</td>\n",
       "    </tr>\n",
       "    <tr>\n",
       "      <th>2</th>\n",
       "      <td>강석민</td>\n",
       "      <td>한국인 직원이 있어서 체크인/아웃 할때 많이 편했고, 음식점 추천과 예약 등 세심하...</td>\n",
       "      <td>10점</td>\n",
       "    </tr>\n",
       "    <tr>\n",
       "      <th>3</th>\n",
       "      <td>최진강</td>\n",
       "      <td>호텔이 너무 좋아서 밖으로 못나감..ㅠㅠ 정말 최고입니다.</td>\n",
       "      <td>8점</td>\n",
       "    </tr>\n",
       "    <tr>\n",
       "      <th>0</th>\n",
       "      <td>김경이</td>\n",
       "      <td>위치나 시설, 직원태도등 최근 방문한 호텔중 Best였음.</td>\n",
       "      <td>8점</td>\n",
       "    </tr>\n",
       "  </tbody>\n",
       "</table>\n",
       "</div>"
      ],
      "text/plain": [
       "   사용자                                                 리뷰   평점\n",
       "0  김경이                   위치나 시설, 직원태도등 최근 방문한 호텔중 Best였음.   8점\n",
       "1  박진형  위치도 좋고 침대가 편안해서 숙면을 취한점이 좋았습니다. 직원들도 모두 친절해서 매...   9점\n",
       "2  강석민  한국인 직원이 있어서 체크인/아웃 할때 많이 편했고, 음식점 추천과 예약 등 세심하...  10점\n",
       "3  최진강                   호텔이 너무 좋아서 밖으로 못나감..ㅠㅠ 정말 최고입니다.   8점\n",
       "0  김경이                   위치나 시설, 직원태도등 최근 방문한 호텔중 Best였음.   8점"
      ]
     },
     "execution_count": 29,
     "metadata": {},
     "output_type": "execute_result"
    }
   ],
   "source": [
    "review_large = pd.concat([review.copy() for _ in range(10000)])\n",
    "\n",
    "print(review_large.shape)\n",
    "review_large.head()"
   ]
  },
  {
   "cell_type": "code",
   "execution_count": 30,
   "metadata": {},
   "outputs": [],
   "source": [
    "review_large.to_csv(\"review_large.csv\")"
   ]
  },
  {
   "cell_type": "code",
   "execution_count": 31,
   "metadata": {},
   "outputs": [
    {
     "data": {
      "text/html": [
       "<div>\n",
       "<style scoped>\n",
       "    .dataframe tbody tr th:only-of-type {\n",
       "        vertical-align: middle;\n",
       "    }\n",
       "\n",
       "    .dataframe tbody tr th {\n",
       "        vertical-align: top;\n",
       "    }\n",
       "\n",
       "    .dataframe thead th {\n",
       "        text-align: right;\n",
       "    }\n",
       "</style>\n",
       "<table border=\"1\" class=\"dataframe\">\n",
       "  <thead>\n",
       "    <tr style=\"text-align: right;\">\n",
       "      <th></th>\n",
       "      <th>Unnamed: 0</th>\n",
       "      <th>사용자</th>\n",
       "      <th>리뷰</th>\n",
       "      <th>평점</th>\n",
       "    </tr>\n",
       "  </thead>\n",
       "  <tbody>\n",
       "    <tr>\n",
       "      <th>0</th>\n",
       "      <td>0</td>\n",
       "      <td>김경이</td>\n",
       "      <td>위치나 시설, 직원태도등 최근 방문한 호텔중 Best였음.</td>\n",
       "      <td>8점</td>\n",
       "    </tr>\n",
       "    <tr>\n",
       "      <th>1</th>\n",
       "      <td>1</td>\n",
       "      <td>박진형</td>\n",
       "      <td>위치도 좋고 침대가 편안해서 숙면을 취한점이 좋았습니다. 직원들도 모두 친절해서 매...</td>\n",
       "      <td>9점</td>\n",
       "    </tr>\n",
       "    <tr>\n",
       "      <th>2</th>\n",
       "      <td>2</td>\n",
       "      <td>강석민</td>\n",
       "      <td>한국인 직원이 있어서 체크인/아웃 할때 많이 편했고, 음식점 추천과 예약 등 세심하...</td>\n",
       "      <td>10점</td>\n",
       "    </tr>\n",
       "    <tr>\n",
       "      <th>3</th>\n",
       "      <td>3</td>\n",
       "      <td>최진강</td>\n",
       "      <td>호텔이 너무 좋아서 밖으로 못나감..ㅠㅠ 정말 최고입니다.</td>\n",
       "      <td>8점</td>\n",
       "    </tr>\n",
       "    <tr>\n",
       "      <th>4</th>\n",
       "      <td>0</td>\n",
       "      <td>김경이</td>\n",
       "      <td>위치나 시설, 직원태도등 최근 방문한 호텔중 Best였음.</td>\n",
       "      <td>8점</td>\n",
       "    </tr>\n",
       "  </tbody>\n",
       "</table>\n",
       "</div>"
      ],
      "text/plain": [
       "   Unnamed: 0  사용자                                                 리뷰   평점\n",
       "0           0  김경이                   위치나 시설, 직원태도등 최근 방문한 호텔중 Best였음.   8점\n",
       "1           1  박진형  위치도 좋고 침대가 편안해서 숙면을 취한점이 좋았습니다. 직원들도 모두 친절해서 매...   9점\n",
       "2           2  강석민  한국인 직원이 있어서 체크인/아웃 할때 많이 편했고, 음식점 추천과 예약 등 세심하...  10점\n",
       "3           3  최진강                   호텔이 너무 좋아서 밖으로 못나감..ㅠㅠ 정말 최고입니다.   8점\n",
       "4           0  김경이                   위치나 시설, 직원태도등 최근 방문한 호텔중 Best였음.   8점"
      ]
     },
     "execution_count": 31,
     "metadata": {},
     "output_type": "execute_result"
    }
   ],
   "source": [
    "pd.read_csv(\"review_large.csv\").head() # default index를 저장해서 unnamed가 나오는거"
   ]
  },
  {
   "cell_type": "code",
   "execution_count": 32,
   "metadata": {},
   "outputs": [],
   "source": [
    "review_large.to_csv(\"review_large_index.csv\", index=False)"
   ]
  },
  {
   "cell_type": "code",
   "execution_count": 33,
   "metadata": {},
   "outputs": [
    {
     "data": {
      "text/html": [
       "<div>\n",
       "<style scoped>\n",
       "    .dataframe tbody tr th:only-of-type {\n",
       "        vertical-align: middle;\n",
       "    }\n",
       "\n",
       "    .dataframe tbody tr th {\n",
       "        vertical-align: top;\n",
       "    }\n",
       "\n",
       "    .dataframe thead th {\n",
       "        text-align: right;\n",
       "    }\n",
       "</style>\n",
       "<table border=\"1\" class=\"dataframe\">\n",
       "  <thead>\n",
       "    <tr style=\"text-align: right;\">\n",
       "      <th></th>\n",
       "      <th>사용자</th>\n",
       "      <th>리뷰</th>\n",
       "      <th>평점</th>\n",
       "    </tr>\n",
       "  </thead>\n",
       "  <tbody>\n",
       "    <tr>\n",
       "      <th>0</th>\n",
       "      <td>김경이</td>\n",
       "      <td>위치나 시설, 직원태도등 최근 방문한 호텔중 Best였음.</td>\n",
       "      <td>8점</td>\n",
       "    </tr>\n",
       "    <tr>\n",
       "      <th>1</th>\n",
       "      <td>박진형</td>\n",
       "      <td>위치도 좋고 침대가 편안해서 숙면을 취한점이 좋았습니다. 직원들도 모두 친절해서 매...</td>\n",
       "      <td>9점</td>\n",
       "    </tr>\n",
       "    <tr>\n",
       "      <th>2</th>\n",
       "      <td>강석민</td>\n",
       "      <td>한국인 직원이 있어서 체크인/아웃 할때 많이 편했고, 음식점 추천과 예약 등 세심하...</td>\n",
       "      <td>10점</td>\n",
       "    </tr>\n",
       "    <tr>\n",
       "      <th>3</th>\n",
       "      <td>최진강</td>\n",
       "      <td>호텔이 너무 좋아서 밖으로 못나감..ㅠㅠ 정말 최고입니다.</td>\n",
       "      <td>8점</td>\n",
       "    </tr>\n",
       "    <tr>\n",
       "      <th>4</th>\n",
       "      <td>김경이</td>\n",
       "      <td>위치나 시설, 직원태도등 최근 방문한 호텔중 Best였음.</td>\n",
       "      <td>8점</td>\n",
       "    </tr>\n",
       "  </tbody>\n",
       "</table>\n",
       "</div>"
      ],
      "text/plain": [
       "   사용자                                                 리뷰   평점\n",
       "0  김경이                   위치나 시설, 직원태도등 최근 방문한 호텔중 Best였음.   8점\n",
       "1  박진형  위치도 좋고 침대가 편안해서 숙면을 취한점이 좋았습니다. 직원들도 모두 친절해서 매...   9점\n",
       "2  강석민  한국인 직원이 있어서 체크인/아웃 할때 많이 편했고, 음식점 추천과 예약 등 세심하...  10점\n",
       "3  최진강                   호텔이 너무 좋아서 밖으로 못나감..ㅠㅠ 정말 최고입니다.   8점\n",
       "4  김경이                   위치나 시설, 직원태도등 최근 방문한 호텔중 Best였음.   8점"
      ]
     },
     "execution_count": 33,
     "metadata": {},
     "output_type": "execute_result"
    }
   ],
   "source": [
    "review_large = pd.read_csv(\"review_large_index.csv\")\n",
    "review_large.head()"
   ]
  },
  {
   "cell_type": "code",
   "execution_count": 34,
   "metadata": {},
   "outputs": [
    {
     "name": "stdout",
     "output_type": "stream",
     "text": [
      "Wall time: 170 ms\n"
     ]
    }
   ],
   "source": [
    "%time review_large.to_csv(\"review_large_index.csv\", index=False)"
   ]
  },
  {
   "cell_type": "code",
   "execution_count": 35,
   "metadata": {},
   "outputs": [
    {
     "name": "stdout",
     "output_type": "stream",
     "text": [
      "Wall time: 78.5 ms\n"
     ]
    }
   ],
   "source": [
    "%time review_large = pd.read_csv(\"review_large_index.csv\")"
   ]
  },
  {
   "cell_type": "code",
   "execution_count": 36,
   "metadata": {},
   "outputs": [],
   "source": [
    "# !stat -f \"%z\" \"review_large_index.csv\"   # window에서 안 됨"
   ]
  },
  {
   "cell_type": "markdown",
   "metadata": {},
   "source": [
    "## Pickle"
   ]
  },
  {
   "cell_type": "code",
   "execution_count": 37,
   "metadata": {},
   "outputs": [],
   "source": [
    "import pickle # python 에서 추천하는 저장방식\n",
    "# 장점 : python에서 뭘 가지고 있던 다 저장 가능한 방식\n"
   ]
  },
  {
   "cell_type": "code",
   "execution_count": 38,
   "metadata": {},
   "outputs": [],
   "source": [
    "pickle.dump(review_large, open(\"review_large_index.p\", \"wb\")) # wb : write binary"
   ]
  },
  {
   "cell_type": "code",
   "execution_count": 39,
   "metadata": {},
   "outputs": [
    {
     "data": {
      "text/html": [
       "<div>\n",
       "<style scoped>\n",
       "    .dataframe tbody tr th:only-of-type {\n",
       "        vertical-align: middle;\n",
       "    }\n",
       "\n",
       "    .dataframe tbody tr th {\n",
       "        vertical-align: top;\n",
       "    }\n",
       "\n",
       "    .dataframe thead th {\n",
       "        text-align: right;\n",
       "    }\n",
       "</style>\n",
       "<table border=\"1\" class=\"dataframe\">\n",
       "  <thead>\n",
       "    <tr style=\"text-align: right;\">\n",
       "      <th></th>\n",
       "      <th>사용자</th>\n",
       "      <th>리뷰</th>\n",
       "      <th>평점</th>\n",
       "    </tr>\n",
       "  </thead>\n",
       "  <tbody>\n",
       "    <tr>\n",
       "      <th>0</th>\n",
       "      <td>김경이</td>\n",
       "      <td>위치나 시설, 직원태도등 최근 방문한 호텔중 Best였음.</td>\n",
       "      <td>8점</td>\n",
       "    </tr>\n",
       "  </tbody>\n",
       "</table>\n",
       "</div>"
      ],
      "text/plain": [
       "   사용자                                리뷰  평점\n",
       "0  김경이  위치나 시설, 직원태도등 최근 방문한 호텔중 Best였음.  8점"
      ]
     },
     "execution_count": 39,
     "metadata": {},
     "output_type": "execute_result"
    }
   ],
   "source": [
    "review_large = pickle.load(open(\"review_large_index.p\", \"rb\")) # rb : read binary\n",
    "review_large.head(1)"
   ]
  },
  {
   "cell_type": "code",
   "execution_count": 40,
   "metadata": {},
   "outputs": [
    {
     "name": "stdout",
     "output_type": "stream",
     "text": [
      "Wall time: 6.98 ms\n"
     ]
    }
   ],
   "source": [
    "%time pickle.dump(review_large, open(\"review_large_index.p\", \"wb\"))"
   ]
  },
  {
   "cell_type": "code",
   "execution_count": 41,
   "metadata": {},
   "outputs": [
    {
     "name": "stdout",
     "output_type": "stream",
     "text": [
      "Wall time: 5.05 ms\n"
     ]
    }
   ],
   "source": [
    "%time review_large = pickle.load(open(\"review_large_index.p\", \"rb\"))"
   ]
  },
  {
   "cell_type": "markdown",
   "metadata": {},
   "source": [
    "## Joblib"
   ]
  },
  {
   "cell_type": "code",
   "execution_count": 42,
   "metadata": {},
   "outputs": [
    {
     "name": "stdout",
     "output_type": "stream",
     "text": [
      "Requirement already satisfied: joblib in c:\\users\\choo\\bigdata\\lib\\site-packages\n"
     ]
    }
   ],
   "source": [
    "!pip install joblib\n",
    "# from sklearn.externals import joblib"
   ]
  },
  {
   "cell_type": "code",
   "execution_count": 43,
   "metadata": {},
   "outputs": [],
   "source": [
    "import joblib"
   ]
  },
  {
   "cell_type": "code",
   "execution_count": 44,
   "metadata": {},
   "outputs": [
    {
     "data": {
      "text/plain": [
       "['review_large_index.pkl']"
      ]
     },
     "execution_count": 44,
     "metadata": {},
     "output_type": "execute_result"
    }
   ],
   "source": [
    "joblib.dump(review_large, 'review_large_index.pkl', compress=True)"
   ]
  },
  {
   "cell_type": "code",
   "execution_count": 45,
   "metadata": {},
   "outputs": [
    {
     "data": {
      "text/html": [
       "<div>\n",
       "<style scoped>\n",
       "    .dataframe tbody tr th:only-of-type {\n",
       "        vertical-align: middle;\n",
       "    }\n",
       "\n",
       "    .dataframe tbody tr th {\n",
       "        vertical-align: top;\n",
       "    }\n",
       "\n",
       "    .dataframe thead th {\n",
       "        text-align: right;\n",
       "    }\n",
       "</style>\n",
       "<table border=\"1\" class=\"dataframe\">\n",
       "  <thead>\n",
       "    <tr style=\"text-align: right;\">\n",
       "      <th></th>\n",
       "      <th>사용자</th>\n",
       "      <th>리뷰</th>\n",
       "      <th>평점</th>\n",
       "    </tr>\n",
       "  </thead>\n",
       "  <tbody>\n",
       "    <tr>\n",
       "      <th>0</th>\n",
       "      <td>김경이</td>\n",
       "      <td>위치나 시설, 직원태도등 최근 방문한 호텔중 Best였음.</td>\n",
       "      <td>8점</td>\n",
       "    </tr>\n",
       "    <tr>\n",
       "      <th>1</th>\n",
       "      <td>박진형</td>\n",
       "      <td>위치도 좋고 침대가 편안해서 숙면을 취한점이 좋았습니다. 직원들도 모두 친절해서 매...</td>\n",
       "      <td>9점</td>\n",
       "    </tr>\n",
       "    <tr>\n",
       "      <th>2</th>\n",
       "      <td>강석민</td>\n",
       "      <td>한국인 직원이 있어서 체크인/아웃 할때 많이 편했고, 음식점 추천과 예약 등 세심하...</td>\n",
       "      <td>10점</td>\n",
       "    </tr>\n",
       "    <tr>\n",
       "      <th>3</th>\n",
       "      <td>최진강</td>\n",
       "      <td>호텔이 너무 좋아서 밖으로 못나감..ㅠㅠ 정말 최고입니다.</td>\n",
       "      <td>8점</td>\n",
       "    </tr>\n",
       "    <tr>\n",
       "      <th>4</th>\n",
       "      <td>김경이</td>\n",
       "      <td>위치나 시설, 직원태도등 최근 방문한 호텔중 Best였음.</td>\n",
       "      <td>8점</td>\n",
       "    </tr>\n",
       "  </tbody>\n",
       "</table>\n",
       "</div>"
      ],
      "text/plain": [
       "   사용자                                                 리뷰   평점\n",
       "0  김경이                   위치나 시설, 직원태도등 최근 방문한 호텔중 Best였음.   8점\n",
       "1  박진형  위치도 좋고 침대가 편안해서 숙면을 취한점이 좋았습니다. 직원들도 모두 친절해서 매...   9점\n",
       "2  강석민  한국인 직원이 있어서 체크인/아웃 할때 많이 편했고, 음식점 추천과 예약 등 세심하...  10점\n",
       "3  최진강                   호텔이 너무 좋아서 밖으로 못나감..ㅠㅠ 정말 최고입니다.   8점\n",
       "4  김경이                   위치나 시설, 직원태도등 최근 방문한 호텔중 Best였음.   8점"
      ]
     },
     "execution_count": 45,
     "metadata": {},
     "output_type": "execute_result"
    }
   ],
   "source": [
    "review_large = joblib.load('review_large_index.pkl')\n",
    "review_large.head()"
   ]
  },
  {
   "cell_type": "code",
   "execution_count": 46,
   "metadata": {},
   "outputs": [
    {
     "name": "stdout",
     "output_type": "stream",
     "text": [
      "Wall time: 12 ms\n"
     ]
    },
    {
     "data": {
      "text/plain": [
       "['review_large_index.pkl']"
      ]
     },
     "execution_count": 46,
     "metadata": {},
     "output_type": "execute_result"
    }
   ],
   "source": [
    "%time joblib.dump(review_large, 'review_large_index.pkl', compress=True)"
   ]
  },
  {
   "cell_type": "code",
   "execution_count": 47,
   "metadata": {},
   "outputs": [
    {
     "name": "stdout",
     "output_type": "stream",
     "text": [
      "Wall time: 11 ms\n"
     ]
    }
   ],
   "source": [
    "%time review_large = joblib.load('review_large_index.pkl')"
   ]
  },
  {
   "cell_type": "code",
   "execution_count": null,
   "metadata": {},
   "outputs": [],
   "source": []
  }
 ],
 "metadata": {
  "kernelspec": {
   "display_name": "Python 3",
   "language": "python",
   "name": "python3"
  },
  "language_info": {
   "codemirror_mode": {
    "name": "ipython",
    "version": 3
   },
   "file_extension": ".py",
   "mimetype": "text/x-python",
   "name": "python",
   "nbconvert_exporter": "python",
   "pygments_lexer": "ipython3",
   "version": "3.6.4"
  }
 },
 "nbformat": 4,
 "nbformat_minor": 2
}
