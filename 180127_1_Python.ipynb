{
 "cells": [
  {
   "cell_type": "markdown",
   "metadata": {},
   "source": [
    "## 01.27 배울 내용은 꼭 필요한 문법 관련해서 배운다. \n",
    "** 나중에 필요한 문법은 구글링해서 보자. **\n",
    "프로그래밍 언어라는 것은 언어기 때문에 ***복습*** 이 중요 \n",
    "알려주는 것들을 주피터 노트북에 ***정리***를 잘 해서 계속해서 복습하고 참고해서 따라하는게 목표!!!"
   ]
  },
  {
   "cell_type": "code",
   "execution_count": 1,
   "metadata": {},
   "outputs": [
    {
     "data": {
      "text/plain": [
       "2"
      ]
     },
     "execution_count": 1,
     "metadata": {},
     "output_type": "execute_result"
    }
   ],
   "source": [
    "1+1"
   ]
  },
  {
   "cell_type": "code",
   "execution_count": 2,
   "metadata": {},
   "outputs": [
    {
     "data": {
      "text/plain": [
       "3"
      ]
     },
     "execution_count": 2,
     "metadata": {},
     "output_type": "execute_result"
    }
   ],
   "source": [
    "7-4"
   ]
  },
  {
   "cell_type": "markdown",
   "metadata": {},
   "source": [
    "하지만 파이썬이 언제나 인간의 직관과 상식에 정확하게 일치하도록 동작하는 것은 아닙니다. 다음의 예시를 통해 이를 확인할 수 있습니다.\n",
    "\n",
    "로우레벨 컴퓨터 랭귀지 : 컴퓨터가 원하는 언어를 하는거 예를들어 C언어\n",
    "하이레벨 컴퓨터 랭귀지 : 사용자가 편하게 이해하는 언어라고 생각하면 됨 예를들어 파이썬\n",
    "\n",
    "하이레벨 컴퓨터 랭귀지가 훨씬 쉽다. \n"
   ]
  },
  {
   "cell_type": "code",
   "execution_count": 3,
   "metadata": {},
   "outputs": [
    {
     "data": {
      "text/plain": [
       "12"
      ]
     },
     "execution_count": 3,
     "metadata": {},
     "output_type": "execute_result"
    }
   ],
   "source": [
    "# 3x4 로 알고 있듯, x를 쓰지 않는 이유는 문자와 헷갈리지 않기 위해 사용\n",
    "3 * 4"
   ]
  },
  {
   "cell_type": "code",
   "execution_count": 4,
   "metadata": {},
   "outputs": [
    {
     "data": {
      "text/plain": [
       "0.75"
      ]
     },
     "execution_count": 4,
     "metadata": {},
     "output_type": "execute_result"
    }
   ],
   "source": [
    "#키보드에 나눗셈 기호가 없어서 '/'로 대체\n",
    "3 / 4"
   ]
  },
  {
   "cell_type": "markdown",
   "metadata": {},
   "source": [
    "파이썬은 덧셈, 뺄셈, 곱셈, 나눗셈 외에도 나머지 연산(%)을 지원합니다."
   ]
  },
  {
   "cell_type": "code",
   "execution_count": 5,
   "metadata": {},
   "outputs": [
    {
     "data": {
      "text/plain": [
       "4"
      ]
     },
     "execution_count": 5,
     "metadata": {},
     "output_type": "execute_result"
    }
   ],
   "source": [
    "#나머지 연산\n",
    "14 % 5"
   ]
  },
  {
   "cell_type": "code",
   "execution_count": 6,
   "metadata": {},
   "outputs": [
    {
     "data": {
      "text/plain": [
       "True"
      ]
     },
     "execution_count": 6,
     "metadata": {},
     "output_type": "execute_result"
    }
   ],
   "source": [
    "#비교연산자(변수에 할당할 때 '='를 쓰기 때문), 파이썬은 true가 True로 시작하니 참고\n",
    "1 + 2 == 3"
   ]
  },
  {
   "cell_type": "code",
   "execution_count": 7,
   "metadata": {},
   "outputs": [
    {
     "data": {
      "text/plain": [
       "False"
      ]
     },
     "execution_count": 7,
     "metadata": {},
     "output_type": "execute_result"
    }
   ],
   "source": [
    "#비교연산자\n",
    "1 + 2 == 4"
   ]
  },
  {
   "cell_type": "markdown",
   "metadata": {},
   "source": [
    "프로그래밍 언어는 적은 문법을 다양하게 응용함으로서 동작하는 무언가(=프로그램)를 만들어 냅니다. 다음은 나머지 연산자와 비교 연산자 두 개를 응용한 코드입니다."
   ]
  },
  {
   "cell_type": "code",
   "execution_count": 8,
   "metadata": {},
   "outputs": [
    {
     "data": {
      "text/plain": [
       "True"
      ]
     },
     "execution_count": 8,
     "metadata": {},
     "output_type": "execute_result"
    }
   ],
   "source": [
    "# 10을 2로 나눈 나머지는 0이므로 참(True)이 나옵니다. 즉, 이 코드는 짝수와 홀수를 구분하는 용도로 쓰입니다.\n",
    "10 % 2 == 0"
   ]
  },
  {
   "cell_type": "code",
   "execution_count": 9,
   "metadata": {},
   "outputs": [
    {
     "data": {
      "text/plain": [
       "False"
      ]
     },
     "execution_count": 9,
     "metadata": {},
     "output_type": "execute_result"
    }
   ],
   "source": [
    "# 반면, 11을 2로 나눈 나머지는 0이 아니므로 거짓(False)이 나옵니다.\n",
    "11 % 2 == 0"
   ]
  },
  {
   "cell_type": "markdown",
   "metadata": {},
   "source": [
    "어떤 경우에는 하나의 조건이 아닌, 두 개 이상의 조건을 중복해서 사용해야 할 경우가 있습니다. 이럴 경우에는 and와 or를 사용합니다."
   ]
  },
  {
   "cell_type": "code",
   "execution_count": 10,
   "metadata": {},
   "outputs": [
    {
     "data": {
      "text/plain": [
       "True"
      ]
     },
     "execution_count": 10,
     "metadata": {},
     "output_type": "execute_result"
    }
   ],
   "source": [
    "12%2 == 0 and 12%3 == 0 #두가지를 비교할 경우 and를 사용"
   ]
  },
  {
   "cell_type": "code",
   "execution_count": 11,
   "metadata": {},
   "outputs": [
    {
     "data": {
      "text/plain": [
       "False"
      ]
     },
     "execution_count": 11,
     "metadata": {},
     "output_type": "execute_result"
    }
   ],
   "source": [
    "14%2 == 0 and 14%3 == 0"
   ]
  },
  {
   "cell_type": "code",
   "execution_count": 12,
   "metadata": {},
   "outputs": [
    {
     "data": {
      "text/plain": [
       "True"
      ]
     },
     "execution_count": 12,
     "metadata": {},
     "output_type": "execute_result"
    }
   ],
   "source": [
    "14%2 == 0 or 14%3 == 0"
   ]
  },
  {
   "cell_type": "markdown",
   "metadata": {},
   "source": [
    "## 변수"
   ]
  },
  {
   "cell_type": "code",
   "execution_count": 13,
   "metadata": {},
   "outputs": [
    {
     "data": {
      "text/plain": [
       "8"
      ]
     },
     "execution_count": 13,
     "metadata": {},
     "output_type": "execute_result"
    }
   ],
   "source": [
    "a = 3\n",
    "b = 5\n",
    "a + b"
   ]
  },
  {
   "cell_type": "code",
   "execution_count": 14,
   "metadata": {},
   "outputs": [
    {
     "data": {
      "text/plain": [
       "18"
      ]
     },
     "execution_count": 14,
     "metadata": {},
     "output_type": "execute_result"
    }
   ],
   "source": [
    "a = 4\n",
    "b = 14\n",
    "a + b"
   ]
  },
  {
   "cell_type": "code",
   "execution_count": 15,
   "metadata": {},
   "outputs": [
    {
     "name": "stdout",
     "output_type": "stream",
     "text": [
      "3번째 줄 a의 값 :  4\n"
     ]
    },
    {
     "data": {
      "text/plain": [
       "6"
      ]
     },
     "execution_count": 15,
     "metadata": {},
     "output_type": "execute_result"
    }
   ],
   "source": [
    "a=3\n",
    "a = a + 1\n",
    "print(\"3번째 줄 a의 값 : \", a)\n",
    "a = a + 2\n",
    "a"
   ]
  },
  {
   "cell_type": "code",
   "execution_count": 16,
   "metadata": {},
   "outputs": [
    {
     "data": {
      "text/plain": [
       "'Hello world!'"
      ]
     },
     "execution_count": 16,
     "metadata": {},
     "output_type": "execute_result"
    }
   ],
   "source": [
    "#문자열 텍스트\n",
    "\"Hello world!\" #변수랑 헷갈리지 않기 위해 글을 쓸때는 \" \" 를 사용"
   ]
  },
  {
   "cell_type": "code",
   "execution_count": 17,
   "metadata": {},
   "outputs": [
    {
     "data": {
      "text/plain": [
       "'Hello world'"
      ]
     },
     "execution_count": 17,
     "metadata": {},
     "output_type": "execute_result"
    }
   ],
   "source": [
    "#하나의 문제를 처리할 때는 하나의 문법만 있으면 된다 라는게 파이썬의 철악(switch-case문이 파이썬에는 없다(if-else로 대체))\n",
    "'Hello world'"
   ]
  },
  {
   "cell_type": "code",
   "execution_count": 18,
   "metadata": {},
   "outputs": [
    {
     "name": "stdout",
     "output_type": "stream",
     "text": [
      "choo's height?\n",
      "I say \"Hello World!\"\n"
     ]
    }
   ],
   "source": [
    "#문자열을 감싸주기 위해 홀따움표(') 와 쌍따움표(\") 두 가지 버전이 있다.\n",
    "print(\"choo's height?\")\n",
    "\n",
    "print('I say \"Hello World!\"' )\n",
    "# ' '를 활용해서 문자열에서 \"도 활용이 가능합니다."
   ]
  },
  {
   "cell_type": "code",
   "execution_count": 19,
   "metadata": {},
   "outputs": [
    {
     "ename": "TypeError",
     "evalue": "unsupported operand type(s) for +: 'int' and 'str'",
     "output_type": "error",
     "traceback": [
      "\u001b[1;31m---------------------------------------------------------------------------\u001b[0m",
      "\u001b[1;31mTypeError\u001b[0m                                 Traceback (most recent call last)",
      "\u001b[1;32m<ipython-input-19-3a34401cb667>\u001b[0m in \u001b[0;36m<module>\u001b[1;34m()\u001b[0m\n\u001b[0;32m      1\u001b[0m \u001b[1;31m#int == integer == 숫자\u001b[0m\u001b[1;33m\u001b[0m\u001b[1;33m\u001b[0m\u001b[0m\n\u001b[0;32m      2\u001b[0m \u001b[1;31m#str == string == 문자열\u001b[0m\u001b[1;33m\u001b[0m\u001b[1;33m\u001b[0m\u001b[0m\n\u001b[1;32m----> 3\u001b[1;33m \u001b[1;36m1\u001b[0m \u001b[1;33m+\u001b[0m \u001b[1;34m\"2\"\u001b[0m \u001b[1;31m#Error가 날 경우 에러 메세지를 보면 됨\u001b[0m\u001b[1;33m\u001b[0m\u001b[0m\n\u001b[0m",
      "\u001b[1;31mTypeError\u001b[0m: unsupported operand type(s) for +: 'int' and 'str'"
     ]
    }
   ],
   "source": [
    "#int == integer == 숫자\n",
    "#str == string == 문자열\n",
    "1 + \"2\" #Error가 날 경우 에러 메세지를 보면 됨"
   ]
  },
  {
   "cell_type": "code",
   "execution_count": 20,
   "metadata": {},
   "outputs": [
    {
     "data": {
      "text/plain": [
       "'12'"
      ]
     },
     "execution_count": 20,
     "metadata": {},
     "output_type": "execute_result"
    }
   ],
   "source": [
    "\"1\" + \"2\" #문자열은 앞 뒤로 더할 수 있음"
   ]
  },
  {
   "cell_type": "markdown",
   "metadata": {},
   "source": [
    "##  포메팅\n",
    "포메팅은 문자열에 어떤 값을 삽입하는 방법입니다."
   ]
  },
  {
   "cell_type": "code",
   "execution_count": 21,
   "metadata": {},
   "outputs": [
    {
     "data": {
      "text/plain": [
       "'chu ate 5 bananas for 3 days'"
      ]
     },
     "execution_count": 21,
     "metadata": {},
     "output_type": "execute_result"
    }
   ],
   "source": [
    "#파이썬에서 가장 지저분한 문법 중 하나. 어려운 것은 아니며 쓸 곳은 많다.\n",
    "bananas = 3\n",
    "days = 5\n",
    "\n",
    "\"chu ate {0} bananas for {1} days\".format(days, bananas)\n",
    "#모든 프로그래밍 언어는 0부터 시작. 즉, 0은 순서상 첫번째를 뜻함\n",
    "# '.'은 특수기능이다. 즉, format이라는 것을 불러와 0번째에 bananas라는 변수에 대입한 3을 넣어주는 것."
   ]
  },
  {
   "cell_type": "code",
   "execution_count": 22,
   "metadata": {},
   "outputs": [
    {
     "data": {
      "text/plain": [
       "'chu ate 3 bananas for 5 days'"
      ]
     },
     "execution_count": 22,
     "metadata": {},
     "output_type": "execute_result"
    }
   ],
   "source": [
    "# 신버전 파이썬의 경우 아래와 같이 축약된 명령어로 대체 가능합니다.\n",
    "f\"chu ate {bananas} bananas for {days} days\""
   ]
  },
  {
   "cell_type": "code",
   "execution_count": 25,
   "metadata": {},
   "outputs": [
    {
     "data": {
      "text/plain": [
       "'[Accuracy] Model A = 0.123, Model B = 0.98765'"
      ]
     },
     "execution_count": 25,
     "metadata": {},
     "output_type": "execute_result"
    }
   ],
   "source": [
    "# 형식을 지정하여 값을 출력할 수 있습니다.\n",
    "model_a = 0.123456789\n",
    "model_b = 0.987654321\n",
    "\n",
    "# f == float == 소숫점\n",
    "# : 은 특수기능의 시작을 나타내고 .5는 5자리 까지 출력하는 것을 뜻하고 f(float)는 소숫점의 숫자를 뜻함.(소숫점 5자리 까지 출력이 됩니다.)\n",
    "# 1:.3f 는 3자리 까지 소숫점을 출력합니다.\n",
    "\"[Accuracy] Model A = {0:.3f}, Model B = {1:.5f}\".format(model_a, model_b)"
   ]
  },
  {
   "cell_type": "code",
   "execution_count": 28,
   "metadata": {},
   "outputs": [
    {
     "data": {
      "text/plain": [
       "'[Accuracy] Model A = 0.123456789, Model B = 0.98765'"
      ]
     },
     "execution_count": 28,
     "metadata": {},
     "output_type": "execute_result"
    }
   ],
   "source": [
    "#소수점을 잘라 쓰는 포메팅 방법\n",
    "f\"[Accuracy] Model A = {model_a}, Model B = {model_b:.5f}\""
   ]
  },
  {
   "cell_type": "markdown",
   "metadata": {},
   "source": [
    "## 문자열"
   ]
  },
  {
   "cell_type": "code",
   "execution_count": 29,
   "metadata": {},
   "outputs": [
    {
     "data": {
      "text/plain": [
       "'Hello World!'"
      ]
     },
     "execution_count": 29,
     "metadata": {},
     "output_type": "execute_result"
    }
   ],
   "source": [
    "message = \"Hello World!\"\n",
    "message"
   ]
  },
  {
   "cell_type": "code",
   "execution_count": 30,
   "metadata": {},
   "outputs": [
    {
     "name": "stdout",
     "output_type": "stream",
     "text": [
      "H\n",
      "e\n",
      "-----\n",
      "H\n",
      "!\n",
      "d\n"
     ]
    }
   ],
   "source": [
    "print(message[0])\n",
    "print(message[1])\n",
    "print(\"-----\")\n",
    "print(message[-0])\n",
    "print(message[-1])\n",
    "print(message[-2])"
   ]
  },
  {
   "cell_type": "code",
   "execution_count": 31,
   "metadata": {},
   "outputs": [
    {
     "data": {
      "text/plain": [
       "'Hel'"
      ]
     },
     "execution_count": 31,
     "metadata": {},
     "output_type": "execute_result"
    }
   ],
   "source": [
    "#문자열의 일부분만 가져오는 것을 Slice 라고 부름\n",
    "message[0:3]\n",
    "#소괄호 : 나머지\n",
    "#중괄호 : 포매팅할때만 씀\n",
    "#대괄호 : 전체 문자에서 일부를 떼어오거나 할때만 쓴다"
   ]
  },
  {
   "cell_type": "code",
   "execution_count": 32,
   "metadata": {},
   "outputs": [
    {
     "name": "stdout",
     "output_type": "stream",
     "text": [
      "True\n",
      "False\n",
      "True\n"
     ]
    }
   ],
   "source": [
    "print(\"H\" in message)\n",
    "print(\"h\" in message)\n",
    "print(\"Hello\" in message)"
   ]
  },
  {
   "cell_type": "code",
   "execution_count": 33,
   "metadata": {},
   "outputs": [
    {
     "data": {
      "text/plain": [
       "'hello world!'"
      ]
     },
     "execution_count": 33,
     "metadata": {},
     "output_type": "execute_result"
    }
   ],
   "source": [
    "message.lower() #소문자로 출력"
   ]
  },
  {
   "cell_type": "code",
   "execution_count": 34,
   "metadata": {},
   "outputs": [
    {
     "data": {
      "text/plain": [
       "'HELLO WORLD!'"
      ]
     },
     "execution_count": 34,
     "metadata": {},
     "output_type": "execute_result"
    }
   ],
   "source": [
    "message.upper() #대문자로 출력"
   ]
  },
  {
   "cell_type": "code",
   "execution_count": null,
   "metadata": {},
   "outputs": [],
   "source": []
  },
  {
   "cell_type": "markdown",
   "metadata": {},
   "source": [
    "## 리스트"
   ]
  },
  {
   "cell_type": "code",
   "execution_count": 35,
   "metadata": {},
   "outputs": [
    {
     "data": {
      "text/plain": [
       "[1, 3, 5, 7, 9]"
      ]
     },
     "execution_count": 35,
     "metadata": {},
     "output_type": "execute_result"
    }
   ],
   "source": [
    "#변수 하나에 여러개의 변수를 담아서 쓸 수 있는거\n",
    "#리스트에서는 대괄호를 쓴다.\n",
    "odd = [1, 3, 5, 7, 9]\n",
    "odd"
   ]
  },
  {
   "cell_type": "code",
   "execution_count": 36,
   "metadata": {},
   "outputs": [
    {
     "name": "stdout",
     "output_type": "stream",
     "text": [
      "1\n",
      "3\n",
      "------\n",
      "9\n",
      "7\n"
     ]
    }
   ],
   "source": [
    "print(odd[0])\n",
    "print(odd[1])\n",
    "print(\"------\")\n",
    "print(odd[-1])\n",
    "print(odd[-2])"
   ]
  },
  {
   "cell_type": "code",
   "execution_count": 37,
   "metadata": {},
   "outputs": [
    {
     "data": {
      "text/plain": [
       "[1, 3, 5, 7]"
      ]
     },
     "execution_count": 37,
     "metadata": {},
     "output_type": "execute_result"
    }
   ],
   "source": [
    "# 0번째 부터 3번째까지 출력\n",
    "odd[0:4]"
   ]
  },
  {
   "cell_type": "code",
   "execution_count": 38,
   "metadata": {},
   "outputs": [
    {
     "name": "stdout",
     "output_type": "stream",
     "text": [
      "True\n",
      "False\n",
      "True\n"
     ]
    }
   ],
   "source": [
    "# 리스트에 특정값이 포함되어 있는지 확인할 수 있습니다.\n",
    "print(1 in odd)\n",
    "print(2 in odd)\n",
    "print(3 in odd)"
   ]
  },
  {
   "cell_type": "code",
   "execution_count": 39,
   "metadata": {},
   "outputs": [
    {
     "data": {
      "text/plain": [
       "[1, 3, 5, 7, 9, 11]"
      ]
     },
     "execution_count": 39,
     "metadata": {},
     "output_type": "execute_result"
    }
   ],
   "source": [
    "#.append : 실행하면 할수록 계속해서 11이 늘어난다.\n",
    "odd.append(11)\n",
    "odd"
   ]
  },
  {
   "cell_type": "code",
   "execution_count": 40,
   "metadata": {},
   "outputs": [
    {
     "data": {
      "text/plain": [
       "[1, 3, 5, 7, 9, 11, 13, 15, 17, 19]"
      ]
     },
     "execution_count": 40,
     "metadata": {},
     "output_type": "execute_result"
    }
   ],
   "source": [
    "odd = odd + [13, 15, 17, 19]\n",
    "odd"
   ]
  },
  {
   "cell_type": "code",
   "execution_count": 41,
   "metadata": {},
   "outputs": [
    {
     "data": {
      "text/plain": [
       "[1, 3, 5, -1, 9, -1, 13, 15, 17, 19]"
      ]
     },
     "execution_count": 41,
     "metadata": {},
     "output_type": "execute_result"
    }
   ],
   "source": [
    "# 리스트의 특정 위치의 값을 변경할 수 있습니다.\n",
    "odd[3] = -1\n",
    "odd[5] = -1\n",
    "odd"
   ]
  },
  {
   "cell_type": "code",
   "execution_count": 43,
   "metadata": {},
   "outputs": [
    {
     "data": {
      "text/plain": [
       "[1, 3, 5, -1, 9, -1, 13, 15]"
      ]
     },
     "execution_count": 43,
     "metadata": {},
     "output_type": "execute_result"
    }
   ],
   "source": [
    "# pop 함수는 리스트의 마지막 값을 뽑아냅니다.(마지막 값을 제외하고 출력)\n",
    "odd.pop()\n",
    "odd"
   ]
  },
  {
   "cell_type": "code",
   "execution_count": 52,
   "metadata": {},
   "outputs": [
    {
     "name": "stdout",
     "output_type": "stream",
     "text": [
      "['Hello', 'World!']\n",
      "['Hell', ' W', 'rld!']\n",
      "msg    :  ['Hello', 'World!']\n",
      "msg[0] :  Hello\n",
      "msg[1] :  World!\n"
     ]
    }
   ],
   "source": [
    "#리스트와 문자열의 상호기능\n",
    "message = \"Hello World!\"\n",
    "print(message.split(\" \"))\n",
    "print(message.split(\"o\"))\n",
    "\n",
    "msg = message.split(\" \")\n",
    "print(\"msg    : \", msg)\n",
    "print(\"msg[0] : \", msg[0])\n",
    "print(\"msg[1] : \", msg[1])"
   ]
  },
  {
   "cell_type": "code",
   "execution_count": 53,
   "metadata": {},
   "outputs": [
    {
     "name": "stdout",
     "output_type": "stream",
     "text": [
      "HelloWorld!\n",
      "Hello Wo rld!\n",
      "Hello,Wo,rld!\n",
      "Hello, Wo, rld!\n"
     ]
    }
   ],
   "source": [
    "words = [\"Hello\", \"Wo\", \"rld!\"]\n",
    "print(\"\".join(words))\n",
    "print(\" \".join(words))\n",
    "print(\",\".join(words))\n",
    "print(\", \".join(words))"
   ]
  },
  {
   "cell_type": "markdown",
   "metadata": {},
   "source": [
    "## 제어문"
   ]
  },
  {
   "cell_type": "code",
   "execution_count": 54,
   "metadata": {},
   "outputs": [
    {
     "name": "stdout",
     "output_type": "stream",
     "text": [
      "아이\n"
     ]
    }
   ],
   "source": [
    "age = 3\n",
    "#if의 문법의 범위는 띄어쓰기가 있는 구간이다. 즉, else를 쓸때도 띄어쓰기를 지우지 않으면 인식 못함\n",
    "if age < 5 :\n",
    "    print(\"아이\")\n",
    "else :\n",
    "    print(\"어른\")"
   ]
  },
  {
   "cell_type": "code",
   "execution_count": 55,
   "metadata": {},
   "outputs": [
    {
     "name": "stdout",
     "output_type": "stream",
     "text": [
      "학생\n"
     ]
    }
   ],
   "source": [
    "age = 10\n",
    "\n",
    "if age < 5 :\n",
    "    print(\"아이\")\n",
    "    #파이썬은 특이하게 else if 를 쓰게 되면 띄어쓰기가 else : if로 사용되기 때문에 인식이 안되 elif로 쓴다\n",
    "elif age <18 :\n",
    "    print(\"학생\")\n",
    "else :\n",
    "    print(\"어른\")"
   ]
  },
  {
   "cell_type": "markdown",
   "metadata": {},
   "source": [
    "## 반복문"
   ]
  },
  {
   "cell_type": "code",
   "execution_count": 56,
   "metadata": {},
   "outputs": [
    {
     "name": "stdout",
     "output_type": "stream",
     "text": [
      "apple\n",
      "banana\n",
      "chicken\n",
      "---------\n",
      "apple\n",
      "banana\n",
      "chicken\n",
      "pineapple\n",
      "cherry\n"
     ]
    }
   ],
   "source": [
    "basket = ['apple', 'banana', 'chicken', 'pineapple', 'cherry']\n",
    "\n",
    "print(basket[0])\n",
    "print(basket[1])\n",
    "print(basket[2])\n",
    "print(\"---------\")\n",
    "\n",
    "# stuff 라는 변수에 basket의 변수를 넣어줌\n",
    "for stuff in basket :\n",
    "    print(stuff)"
   ]
  },
  {
   "cell_type": "code",
   "execution_count": 65,
   "metadata": {},
   "outputs": [
    {
     "name": "stdout",
     "output_type": "stream",
     "text": [
      "1\n",
      "boop!\n",
      "3\n",
      "4\n",
      "beep!\n",
      "5\n",
      "6\n",
      "7\n",
      "8\n",
      "9\n",
      "10\n"
     ]
    }
   ],
   "source": [
    "# range(x, y) 의 뜻은 0부터 y개수의 수를 보여주지만, x를 할당할 경우 x부터 y-x까지의 수까지 출력되는 것\n",
    "# range(x, y) = (i=x; i<y; i++)\n",
    "for i in range(1, 11) :\n",
    "    if i == 2 : \n",
    "        print(\"boop!\")\n",
    "        # continue : 루프(반복문)를 (continue 아래 부분을) skip 한다.\n",
    "        # continue : 해당 루프만 실행하지 않고 다음 루프를 다시 시작합니다.\n",
    "        continue \n",
    "        \n",
    "    if i == 5 :\n",
    "        print(\"beep!\")\n",
    "#         break #루프(반복문)를 강제종료\n",
    "        \n",
    "    print(i)"
   ]
  },
  {
   "cell_type": "code",
   "execution_count": 70,
   "metadata": {},
   "outputs": [
    {
     "data": {
      "text/plain": [
       "[2, 4, 6, 8, 12, 14]"
      ]
     },
     "execution_count": 70,
     "metadata": {},
     "output_type": "execute_result"
    }
   ],
   "source": [
    "double_list = []\n",
    "\n",
    "for i in range(1, 11) :\n",
    "    if i == 5 :\n",
    "        continue\n",
    "    \n",
    "    if i == 8 :\n",
    "        break;\n",
    "        \n",
    "    double = i * 2\n",
    "    double_list.append(double)\n",
    "    \n",
    "double_list\n",
    "\n",
    "#'5'일 때는 skip되니까 .append가 실행되지 않은 채 진행되고, '8'일 때는 break가 되니까 double~이 실행되지 않은 채 종료\n"
   ]
  },
  {
   "cell_type": "code",
   "execution_count": 72,
   "metadata": {},
   "outputs": [
    {
     "data": {
      "text/plain": [
       "[14]"
      ]
     },
     "execution_count": 72,
     "metadata": {},
     "output_type": "execute_result"
    }
   ],
   "source": [
    "double_list = []\n",
    "\n",
    "for i in range(1, 11) :\n",
    "    if i == 5 :\n",
    "        continue\n",
    "    \n",
    "    if i == 8 :\n",
    "        break;\n",
    "        \n",
    "    double = i * 2\n",
    "    \n",
    "double_list.append(double)\n",
    "double_list"
   ]
  },
  {
   "cell_type": "code",
   "execution_count": 75,
   "metadata": {},
   "outputs": [
    {
     "data": {
      "text/plain": [
       "[2, 4, 6, 8, 12, 14, 16]"
      ]
     },
     "execution_count": 75,
     "metadata": {},
     "output_type": "execute_result"
    }
   ],
   "source": [
    "double_list = []\n",
    "\n",
    "for i in range(1, 11) :\n",
    "    if i == 5 :\n",
    "        continue\n",
    "        \n",
    "    double = i * 2\n",
    "    double_list.append(double)\n",
    "    \n",
    "    if i == 8 :\n",
    "        break;\n",
    "        \n",
    "double_list"
   ]
  },
  {
   "cell_type": "code",
   "execution_count": null,
   "metadata": {},
   "outputs": [],
   "source": []
  },
  {
   "cell_type": "markdown",
   "metadata": {},
   "source": [
    "## 함수"
   ]
  },
  {
   "cell_type": "code",
   "execution_count": 76,
   "metadata": {},
   "outputs": [
    {
     "name": "stdout",
     "output_type": "stream",
     "text": [
      "6\n",
      "12\n"
     ]
    }
   ],
   "source": [
    "#def == define\n",
    "def multiply(a, b) :\n",
    "    c = a * b\n",
    "    return c\n",
    "\n",
    "print(multiply(2, 3))\n",
    "print(multiply(3, 4))"
   ]
  },
  {
   "cell_type": "code",
   "execution_count": 78,
   "metadata": {},
   "outputs": [
    {
     "name": "stdout",
     "output_type": "stream",
     "text": [
      "sign( -1 ) :  음수\n",
      "sign( 0 ) :  0\n",
      "sign( 1 ) :  양수\n"
     ]
    },
    {
     "data": {
      "text/plain": [
       "['음수', '0', '양수']"
      ]
     },
     "execution_count": 78,
     "metadata": {},
     "output_type": "execute_result"
    }
   ],
   "source": [
    "out = []\n",
    "\n",
    "def sign(n) :\n",
    "    if n > 0 :\n",
    "        return '양수'\n",
    "    elif n < 0 :\n",
    "        return '음수'\n",
    "    else :\n",
    "        return '0'\n",
    "\n",
    "for i in [-1, 0, +1] :\n",
    "    out.append(sign(i))\n",
    "    print(\"sign(\", i, \") : \", sign(i))\n",
    "    \n",
    "out\n",
    "    \n",
    "# print(sign(-1))\n",
    "# print(sign(0))\n",
    "# print(sign(+1))"
   ]
  },
  {
   "cell_type": "code",
   "execution_count": null,
   "metadata": {},
   "outputs": [],
   "source": []
  },
  {
   "cell_type": "markdown",
   "metadata": {},
   "source": [
    "### 팩토리얼\n",
    "   * 3! = 3 x 2 x 1 = 6\n",
    "   * 4! = 4 x 3 x 2 x 1 = 24\n",
    "   * 5! = 5 x 4 x 3 x 2 x 1 = 120"
   ]
  },
  {
   "cell_type": "code",
   "execution_count": null,
   "metadata": {},
   "outputs": [],
   "source": [
    "# factorial 함수를 정의합니다\n",
    "def factorial(n) :\n",
    "    # result 변수에 1을 할당합니다.\n",
    "    result = 1\n",
    "    \n",
    "    # 반복문을 이용해서 1부터 n까지를 반복합니다.\n",
    "    for i in range(1, n + 1) :\n",
    "        result = result * i\n",
    "        \n",
    "    # result 값을 반환합니다.\n",
    "    return result\n",
    "\n",
    "print(factorial(3))\n",
    "print(factorial(4))\n",
    "print(factorial(5))"
   ]
  },
  {
   "cell_type": "code",
   "execution_count": null,
   "metadata": {},
   "outputs": [],
   "source": []
  }
 ],
 "metadata": {
  "kernelspec": {
   "display_name": "Python 3",
   "language": "python",
   "name": "python3"
  },
  "language_info": {
   "codemirror_mode": {
    "name": "ipython",
    "version": 3
   },
   "file_extension": ".py",
   "mimetype": "text/x-python",
   "name": "python",
   "nbconvert_exporter": "python",
   "pygments_lexer": "ipython3",
   "version": "3.6.4"
  }
 },
 "nbformat": 4,
 "nbformat_minor": 2
}
